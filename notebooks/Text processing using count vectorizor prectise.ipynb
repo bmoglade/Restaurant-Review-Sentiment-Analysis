{
 "cells": [
  {
   "cell_type": "code",
   "execution_count": 1,
   "id": "4c3d027f",
   "metadata": {},
   "outputs": [],
   "source": [
    "from warnings import filterwarnings\n",
    "filterwarnings('ignore')"
   ]
  },
  {
   "cell_type": "code",
   "execution_count": 2,
   "id": "268f9a45",
   "metadata": {},
   "outputs": [],
   "source": [
    "import pandas as pd\n",
    "import numpy as np\n",
    "import matplotlib.pyplot as plt\n",
    "import seaborn as sb\n",
    "import os\n",
    "from re import sub"
   ]
  },
  {
   "cell_type": "code",
   "execution_count": 3,
   "id": "f93bafd2",
   "metadata": {},
   "outputs": [],
   "source": [
    "os.chdir('C:/Bhushan data/ETLHIVE (India@123)/ETLHIVE Deep Learning/08_Text_Processing_2_18-Jun-23')"
   ]
  },
  {
   "cell_type": "code",
   "execution_count": 4,
   "id": "a4adb3f2",
   "metadata": {},
   "outputs": [
    {
     "data": {
      "text/html": [
       "<div>\n",
       "<style scoped>\n",
       "    .dataframe tbody tr th:only-of-type {\n",
       "        vertical-align: middle;\n",
       "    }\n",
       "\n",
       "    .dataframe tbody tr th {\n",
       "        vertical-align: top;\n",
       "    }\n",
       "\n",
       "    .dataframe thead th {\n",
       "        text-align: right;\n",
       "    }\n",
       "</style>\n",
       "<table border=\"1\" class=\"dataframe\">\n",
       "  <thead>\n",
       "    <tr style=\"text-align: right;\">\n",
       "      <th></th>\n",
       "      <th>Review</th>\n",
       "      <th>Liked</th>\n",
       "    </tr>\n",
       "  </thead>\n",
       "  <tbody>\n",
       "    <tr>\n",
       "      <th>0</th>\n",
       "      <td>Wow... Loved this place.</td>\n",
       "      <td>1</td>\n",
       "    </tr>\n",
       "    <tr>\n",
       "      <th>1</th>\n",
       "      <td>Crust is not good.</td>\n",
       "      <td>0</td>\n",
       "    </tr>\n",
       "    <tr>\n",
       "      <th>2</th>\n",
       "      <td>Not tasty and the texture was just nasty.</td>\n",
       "      <td>0</td>\n",
       "    </tr>\n",
       "    <tr>\n",
       "      <th>3</th>\n",
       "      <td>Stopped by during the late May bank holiday of...</td>\n",
       "      <td>1</td>\n",
       "    </tr>\n",
       "    <tr>\n",
       "      <th>4</th>\n",
       "      <td>The selection on the menu was great and so wer...</td>\n",
       "      <td>1</td>\n",
       "    </tr>\n",
       "  </tbody>\n",
       "</table>\n",
       "</div>"
      ],
      "text/plain": [
       "                                              Review  Liked\n",
       "0                           Wow... Loved this place.      1\n",
       "1                                 Crust is not good.      0\n",
       "2          Not tasty and the texture was just nasty.      0\n",
       "3  Stopped by during the late May bank holiday of...      1\n",
       "4  The selection on the menu was great and so wer...      1"
      ]
     },
     "execution_count": 4,
     "metadata": {},
     "output_type": "execute_result"
    }
   ],
   "source": [
    "A = pd.read_csv('Restaurant_Reviews.tsv',sep='\\t')\n",
    "A.head()"
   ]
  },
  {
   "cell_type": "code",
   "execution_count": 5,
   "id": "33440411",
   "metadata": {},
   "outputs": [],
   "source": [
    "Y = A[['Liked']]"
   ]
  },
  {
   "cell_type": "code",
   "execution_count": 6,
   "id": "7f38718d",
   "metadata": {},
   "outputs": [],
   "source": [
    "q= []\n",
    "for i in A['Review']:\n",
    "    i = sub('[^a-zA-Z0-9 ]','',i)\n",
    "    q.append(i.upper())"
   ]
  },
  {
   "cell_type": "code",
   "execution_count": 7,
   "id": "9a7455bd",
   "metadata": {},
   "outputs": [],
   "source": [
    "from sklearn.feature_extraction.text import CountVectorizer\n",
    "cv = CountVectorizer()"
   ]
  },
  {
   "cell_type": "code",
   "execution_count": 8,
   "id": "a678f470",
   "metadata": {},
   "outputs": [],
   "source": [
    "Xnew = cv.fit_transform(q).toarray()"
   ]
  },
  {
   "cell_type": "code",
   "execution_count": 9,
   "id": "3d09a11b",
   "metadata": {},
   "outputs": [
    {
     "data": {
      "text/plain": [
       "2067"
      ]
     },
     "execution_count": 9,
     "metadata": {},
     "output_type": "execute_result"
    }
   ],
   "source": [
    "len(cv.get_feature_names())"
   ]
  },
  {
   "cell_type": "code",
   "execution_count": 10,
   "id": "27ed621e",
   "metadata": {},
   "outputs": [],
   "source": [
    "from keras.models import Sequential\n",
    "from keras.layers import Dense, Dropout\n",
    "from keras.callbacks import EarlyStopping\n",
    "es = EarlyStopping(patience=10)"
   ]
  },
  {
   "cell_type": "code",
   "execution_count": 11,
   "id": "bee9a9d8",
   "metadata": {},
   "outputs": [],
   "source": [
    "nn = Sequential()"
   ]
  },
  {
   "cell_type": "code",
   "execution_count": 12,
   "id": "3460e729",
   "metadata": {},
   "outputs": [],
   "source": [
    "nn.add(Dense(2070, input_dim = len(cv.get_feature_names())))\n",
    "nn.add(Dense(300))\n",
    "nn.add(Dropout(rate=0.2))\n",
    "nn.add(Dense(300))\n",
    "nn.add(Dropout(rate=0.2))\n",
    "nn.add(Dense(1, activation='sigmoid'))"
   ]
  },
  {
   "cell_type": "code",
   "execution_count": 13,
   "id": "dc20145c",
   "metadata": {},
   "outputs": [],
   "source": [
    "nn.compile(loss='binary_crossentropy',metrics='accuracy')"
   ]
  },
  {
   "cell_type": "code",
   "execution_count": 14,
   "id": "fb23cbda",
   "metadata": {},
   "outputs": [
    {
     "name": "stdout",
     "output_type": "stream",
     "text": [
      "Epoch 1/50\n",
      "25/25 [==============================] - 2s 69ms/step - loss: 0.5834 - accuracy: 0.7113 - val_loss: 0.5294 - val_accuracy: 0.7450\n",
      "Epoch 2/50\n",
      "25/25 [==============================] - 1s 58ms/step - loss: 0.2384 - accuracy: 0.9000 - val_loss: 0.6353 - val_accuracy: 0.7600\n",
      "Epoch 3/50\n",
      "25/25 [==============================] - 1s 58ms/step - loss: 0.0881 - accuracy: 0.9638 - val_loss: 0.7260 - val_accuracy: 0.8000\n",
      "Epoch 4/50\n",
      "25/25 [==============================] - 1s 59ms/step - loss: 0.0331 - accuracy: 0.9875 - val_loss: 1.6564 - val_accuracy: 0.7100\n",
      "Epoch 5/50\n",
      "25/25 [==============================] - 2s 61ms/step - loss: 0.0168 - accuracy: 0.9950 - val_loss: 1.6308 - val_accuracy: 0.7650\n",
      "Epoch 6/50\n",
      "25/25 [==============================] - 2s 61ms/step - loss: 0.0110 - accuracy: 0.9925 - val_loss: 1.7018 - val_accuracy: 0.8200\n",
      "Epoch 7/50\n",
      "25/25 [==============================] - 2s 62ms/step - loss: 0.0057 - accuracy: 0.9975 - val_loss: 1.9095 - val_accuracy: 0.7950\n",
      "Epoch 8/50\n",
      "25/25 [==============================] - 2s 60ms/step - loss: 2.1180e-04 - accuracy: 1.0000 - val_loss: 2.8033 - val_accuracy: 0.7550\n",
      "Epoch 9/50\n",
      "25/25 [==============================] - 2s 60ms/step - loss: 0.0025 - accuracy: 0.9987 - val_loss: 2.2413 - val_accuracy: 0.8100\n",
      "Epoch 10/50\n",
      "25/25 [==============================] - 2s 60ms/step - loss: 0.0020 - accuracy: 0.9987 - val_loss: 2.4188 - val_accuracy: 0.8450\n",
      "Epoch 11/50\n",
      "25/25 [==============================] - 2s 61ms/step - loss: 0.0146 - accuracy: 0.9975 - val_loss: 4.0581 - val_accuracy: 0.7250\n"
     ]
    }
   ],
   "source": [
    "model = nn.fit(Xnew,Y, validation_split=0.2,epochs=50,callbacks=es)"
   ]
  },
  {
   "cell_type": "code",
   "execution_count": 15,
   "id": "9eae964d",
   "metadata": {},
   "outputs": [],
   "source": [
    "tr_err = model.history['loss']\n",
    "ts_err = model.history['val_loss']"
   ]
  },
  {
   "cell_type": "code",
   "execution_count": 16,
   "id": "e0052678",
   "metadata": {},
   "outputs": [
    {
     "data": {
      "text/plain": [
       "[<matplotlib.lines.Line2D at 0x160eaffe220>]"
      ]
     },
     "execution_count": 16,
     "metadata": {},
     "output_type": "execute_result"
    },
    {
     "data": {
      "image/png": "[encoded data removed]",
      "text/plain": [
       "<Figure size 1440x576 with 1 Axes>"
      ]
     },
     "metadata": {
      "needs_background": "light"
     },
     "output_type": "display_data"
    }
   ],
   "source": [
    "plt.figure(figsize=(20,8))\n",
    "plt.plot(tr_err)\n",
    "plt.plot(ts_err)"
   ]
  },
  {
   "cell_type": "code",
   "execution_count": 40,
   "id": "8541ee84",
   "metadata": {},
   "outputs": [
    {
     "data": {
      "text/html": [
       "<div>\n",
       "<style scoped>\n",
       "    .dataframe tbody tr th:only-of-type {\n",
       "        vertical-align: middle;\n",
       "    }\n",
       "\n",
       "    .dataframe tbody tr th {\n",
       "        vertical-align: top;\n",
       "    }\n",
       "\n",
       "    .dataframe thead th {\n",
       "        text-align: right;\n",
       "    }\n",
       "</style>\n",
       "<table border=\"1\" class=\"dataframe\">\n",
       "  <thead>\n",
       "    <tr style=\"text-align: right;\">\n",
       "      <th></th>\n",
       "      <th>Review</th>\n",
       "    </tr>\n",
       "  </thead>\n",
       "  <tbody>\n",
       "    <tr>\n",
       "      <th>0</th>\n",
       "      <td>Tasty and delicious</td>\n",
       "    </tr>\n",
       "    <tr>\n",
       "      <th>1</th>\n",
       "      <td>crust is hard</td>\n",
       "    </tr>\n",
       "    <tr>\n",
       "      <th>2</th>\n",
       "      <td>yummy....I like Dominos pizza</td>\n",
       "    </tr>\n",
       "    <tr>\n",
       "      <th>3</th>\n",
       "      <td>fast service and good taste</td>\n",
       "    </tr>\n",
       "    <tr>\n",
       "      <th>4</th>\n",
       "      <td>Good taste</td>\n",
       "    </tr>\n",
       "  </tbody>\n",
       "</table>\n",
       "</div>"
      ],
      "text/plain": [
       "                          Review\n",
       "0            Tasty and delicious\n",
       "1                  crust is hard\n",
       "2  yummy....I like Dominos pizza\n",
       "3    fast service and good taste\n",
       "4                    Good taste "
      ]
     },
     "execution_count": 40,
     "metadata": {},
     "output_type": "execute_result"
    }
   ],
   "source": [
    "B = pd.read_csv('rest_reviews_testing.csv')\n",
    "B.head()"
   ]
  },
  {
   "cell_type": "code",
   "execution_count": 41,
   "id": "08ef8cc4",
   "metadata": {},
   "outputs": [],
   "source": [
    "p = []\n",
    "for i in B['Review']:\n",
    "    i = sub('^a-zA-Z0-9','',i)\n",
    "    p.append(i.upper())"
   ]
  },
  {
   "cell_type": "code",
   "execution_count": 42,
   "id": "60d40f62",
   "metadata": {},
   "outputs": [
    {
     "data": {
      "text/plain": [
       "['TASTY AND DELICIOUS',\n",
       " 'CRUST IS HARD',\n",
       " 'YUMMY....I LIKE DOMINOS PIZZA',\n",
       " 'FAST SERVICE AND GOOD TASTE',\n",
       " 'GOOD TASTE ',\n",
       " 'ITS VERY DELICIOUS... HOPE IT WILL MAINTAIN TAST...',\n",
       " 'FOOD WAS OKAY BUT THE CHEESY DIP PROVIDED WAS EXPIRED.',\n",
       " 'TASTE IS OK BUT NOT SATISFIED',\n",
       " 'POOR SERVICE ',\n",
       " 'GOOD HYGIENE FOOD DELIVERED BY DOMINOS WITH PROPER SAFETY.',\n",
       " 'NOT GOOD',\n",
       " 'TASTE IS NOT OK ALSO SERVICE IS NOT SATISFIED',\n",
       " 'DELAYED SERVICE',\n",
       " 'HORRIBLE TASTE',\n",
       " 'LATE SERVICE',\n",
       " \"TASTE IS OK BUT DELIVERY IS TOO LATE..CAN'T SPEND THAT MUCH TIME\",\n",
       " 'DISAPPOINTING FOOD EXPERIENCE']"
      ]
     },
     "execution_count": 42,
     "metadata": {},
     "output_type": "execute_result"
    }
   ],
   "source": [
    "p"
   ]
  },
  {
   "cell_type": "code",
   "execution_count": 43,
   "id": "1446c087",
   "metadata": {},
   "outputs": [],
   "source": [
    "Xtest = cv.transform(p).toarray()"
   ]
  },
  {
   "cell_type": "code",
   "execution_count": 44,
   "id": "2a0c6576",
   "metadata": {},
   "outputs": [
    {
     "data": {
      "text/plain": [
       "array([[0, 0, 0, ..., 0, 0, 0],\n",
       "       [0, 0, 0, ..., 0, 0, 0],\n",
       "       [0, 0, 0, ..., 0, 1, 0],\n",
       "       ...,\n",
       "       [0, 0, 0, ..., 0, 0, 0],\n",
       "       [0, 0, 0, ..., 0, 0, 0],\n",
       "       [0, 0, 0, ..., 0, 0, 0]], dtype=int64)"
      ]
     },
     "execution_count": 44,
     "metadata": {},
     "output_type": "execute_result"
    }
   ],
   "source": [
    "Xtest"
   ]
  },
  {
   "cell_type": "code",
   "execution_count": 45,
   "id": "ce73ae8f",
   "metadata": {},
   "outputs": [
    {
     "name": "stdout",
     "output_type": "stream",
     "text": [
      "1/1 [==============================] - 0s 25ms/step\n"
     ]
    }
   ],
   "source": [
    "pred = nn.predict(Xtest)"
   ]
  },
  {
   "cell_type": "code",
   "execution_count": 46,
   "id": "682b154e",
   "metadata": {},
   "outputs": [
    {
     "data": {
      "text/plain": [
       "[1, 0, 1, 1, 1, 1, 0, 0, 0, 1, 0, 0, 1, 0, 1, 0, 0]"
      ]
     },
     "execution_count": 46,
     "metadata": {},
     "output_type": "execute_result"
    }
   ],
   "source": [
    "output = []\n",
    "for i in pred:\n",
    "    if i>0.5:\n",
    "        output.append(1)\n",
    "    else:\n",
    "        output.append(0)\n",
    "output"
   ]
  },
  {
   "cell_type": "code",
   "execution_count": 55,
   "id": "612aab07",
   "metadata": {},
   "outputs": [],
   "source": [
    "O = B[['Review']]"
   ]
  },
  {
   "cell_type": "code",
   "execution_count": 56,
   "id": "9580fd98",
   "metadata": {},
   "outputs": [],
   "source": [
    "O['like'] = output"
   ]
  },
  {
   "cell_type": "code",
   "execution_count": 57,
   "id": "6251d299",
   "metadata": {},
   "outputs": [
    {
     "data": {
      "text/html": [
       "<div>\n",
       "<style scoped>\n",
       "    .dataframe tbody tr th:only-of-type {\n",
       "        vertical-align: middle;\n",
       "    }\n",
       "\n",
       "    .dataframe tbody tr th {\n",
       "        vertical-align: top;\n",
       "    }\n",
       "\n",
       "    .dataframe thead th {\n",
       "        text-align: right;\n",
       "    }\n",
       "</style>\n",
       "<table border=\"1\" class=\"dataframe\">\n",
       "  <thead>\n",
       "    <tr style=\"text-align: right;\">\n",
       "      <th></th>\n",
       "      <th>Review</th>\n",
       "      <th>like</th>\n",
       "    </tr>\n",
       "  </thead>\n",
       "  <tbody>\n",
       "    <tr>\n",
       "      <th>0</th>\n",
       "      <td>Tasty and delicious</td>\n",
       "      <td>1</td>\n",
       "    </tr>\n",
       "    <tr>\n",
       "      <th>1</th>\n",
       "      <td>crust is hard</td>\n",
       "      <td>0</td>\n",
       "    </tr>\n",
       "    <tr>\n",
       "      <th>2</th>\n",
       "      <td>yummy....I like Dominos pizza</td>\n",
       "      <td>1</td>\n",
       "    </tr>\n",
       "    <tr>\n",
       "      <th>3</th>\n",
       "      <td>fast service and good taste</td>\n",
       "      <td>1</td>\n",
       "    </tr>\n",
       "    <tr>\n",
       "      <th>4</th>\n",
       "      <td>Good taste</td>\n",
       "      <td>1</td>\n",
       "    </tr>\n",
       "    <tr>\n",
       "      <th>5</th>\n",
       "      <td>Its very delicious... hope it will maintain ta...</td>\n",
       "      <td>1</td>\n",
       "    </tr>\n",
       "    <tr>\n",
       "      <th>6</th>\n",
       "      <td>Food was okay but the cheesy dip provided was ...</td>\n",
       "      <td>0</td>\n",
       "    </tr>\n",
       "    <tr>\n",
       "      <th>7</th>\n",
       "      <td>taste is ok but not satisfied</td>\n",
       "      <td>0</td>\n",
       "    </tr>\n",
       "    <tr>\n",
       "      <th>8</th>\n",
       "      <td>Poor service</td>\n",
       "      <td>0</td>\n",
       "    </tr>\n",
       "    <tr>\n",
       "      <th>9</th>\n",
       "      <td>Good hygiene food delivered by dominos with pr...</td>\n",
       "      <td>1</td>\n",
       "    </tr>\n",
       "    <tr>\n",
       "      <th>10</th>\n",
       "      <td>Not Good</td>\n",
       "      <td>0</td>\n",
       "    </tr>\n",
       "    <tr>\n",
       "      <th>11</th>\n",
       "      <td>taste is not ok also service is not satisfied</td>\n",
       "      <td>0</td>\n",
       "    </tr>\n",
       "    <tr>\n",
       "      <th>12</th>\n",
       "      <td>Delayed service</td>\n",
       "      <td>1</td>\n",
       "    </tr>\n",
       "    <tr>\n",
       "      <th>13</th>\n",
       "      <td>Horrible taste</td>\n",
       "      <td>0</td>\n",
       "    </tr>\n",
       "    <tr>\n",
       "      <th>14</th>\n",
       "      <td>Late Service</td>\n",
       "      <td>1</td>\n",
       "    </tr>\n",
       "    <tr>\n",
       "      <th>15</th>\n",
       "      <td>taste is ok but delivery is too late..Can't sp...</td>\n",
       "      <td>0</td>\n",
       "    </tr>\n",
       "    <tr>\n",
       "      <th>16</th>\n",
       "      <td>disappointing food experience</td>\n",
       "      <td>0</td>\n",
       "    </tr>\n",
       "  </tbody>\n",
       "</table>\n",
       "</div>"
      ],
      "text/plain": [
       "                                               Review  like\n",
       "0                                 Tasty and delicious     1\n",
       "1                                       crust is hard     0\n",
       "2                       yummy....I like Dominos pizza     1\n",
       "3                         fast service and good taste     1\n",
       "4                                         Good taste      1\n",
       "5   Its very delicious... hope it will maintain ta...     1\n",
       "6   Food was okay but the cheesy dip provided was ...     0\n",
       "7                       taste is ok but not satisfied     0\n",
       "8                                       Poor service      0\n",
       "9   Good hygiene food delivered by dominos with pr...     1\n",
       "10                                           Not Good     0\n",
       "11      taste is not ok also service is not satisfied     0\n",
       "12                                    Delayed service     1\n",
       "13                                     Horrible taste     0\n",
       "14                                       Late Service     1\n",
       "15  taste is ok but delivery is too late..Can't sp...     0\n",
       "16                      disappointing food experience     0"
      ]
     },
     "execution_count": 57,
     "metadata": {},
     "output_type": "execute_result"
    }
   ],
   "source": [
    "O"
   ]
  },
  {
   "cell_type": "code",
   "execution_count": 58,
   "id": "a5bc7c89",
   "metadata": {},
   "outputs": [],
   "source": [
    "from sklearn.feature_extraction.text import TfidfVectorizer\n",
    "tv = TfidfVectorizer()"
   ]
  },
  {
   "cell_type": "code",
   "execution_count": 59,
   "id": "d3aaa7fc",
   "metadata": {},
   "outputs": [],
   "source": [
    "Xtrain = tv.fit_transform(q).toarray()"
   ]
  },
  {
   "cell_type": "code",
   "execution_count": 60,
   "id": "3b5b6687",
   "metadata": {},
   "outputs": [
    {
     "data": {
      "text/plain": [
       "array([[0., 0., 0., ..., 0., 0., 0.],\n",
       "       [0., 0., 0., ..., 0., 0., 0.],\n",
       "       [0., 0., 0., ..., 0., 0., 0.],\n",
       "       ...,\n",
       "       [0., 0., 0., ..., 0., 0., 0.],\n",
       "       [0., 0., 0., ..., 0., 0., 0.],\n",
       "       [0., 0., 0., ..., 0., 0., 0.]])"
      ]
     },
     "execution_count": 60,
     "metadata": {},
     "output_type": "execute_result"
    }
   ],
   "source": [
    "Xtrain"
   ]
  },
  {
   "cell_type": "code",
   "execution_count": 61,
   "id": "e8fbc84f",
   "metadata": {},
   "outputs": [
    {
     "name": "stdout",
     "output_type": "stream",
     "text": [
      "Epoch 1/50\n",
      "25/25 [==============================] - 2s 62ms/step - loss: 7.1315e-04 - accuracy: 1.0000 - val_loss: 1.6466 - val_accuracy: 0.7300\n",
      "Epoch 2/50\n",
      "25/25 [==============================] - 1s 57ms/step - loss: 6.9460e-05 - accuracy: 1.0000 - val_loss: 1.1553 - val_accuracy: 0.8250\n",
      "Epoch 3/50\n",
      "25/25 [==============================] - 1s 58ms/step - loss: 2.0327e-05 - accuracy: 1.0000 - val_loss: 1.5448 - val_accuracy: 0.7700\n",
      "Epoch 4/50\n",
      "25/25 [==============================] - 1s 56ms/step - loss: 5.3619e-07 - accuracy: 1.0000 - val_loss: 1.6248 - val_accuracy: 0.7600\n",
      "Epoch 5/50\n",
      "25/25 [==============================] - 1s 57ms/step - loss: 2.4679e-07 - accuracy: 1.0000 - val_loss: 1.7005 - val_accuracy: 0.7550\n",
      "Epoch 6/50\n",
      "25/25 [==============================] - 1s 59ms/step - loss: 2.1252e-07 - accuracy: 1.0000 - val_loss: 1.8642 - val_accuracy: 0.7500\n",
      "Epoch 7/50\n",
      "25/25 [==============================] - 1s 58ms/step - loss: 6.8552e-08 - accuracy: 1.0000 - val_loss: 1.9843 - val_accuracy: 0.7500\n",
      "Epoch 8/50\n",
      "25/25 [==============================] - 1s 57ms/step - loss: 2.5979e-08 - accuracy: 1.0000 - val_loss: 1.9236 - val_accuracy: 0.7550\n",
      "Epoch 9/50\n",
      "25/25 [==============================] - 1s 56ms/step - loss: 1.6661e-08 - accuracy: 1.0000 - val_loss: 2.0304 - val_accuracy: 0.7500\n",
      "Epoch 10/50\n",
      "25/25 [==============================] - 1s 56ms/step - loss: 1.0299e-08 - accuracy: 1.0000 - val_loss: 2.0177 - val_accuracy: 0.7550\n",
      "Epoch 11/50\n",
      "25/25 [==============================] - 1s 58ms/step - loss: 6.9858e-09 - accuracy: 1.0000 - val_loss: 1.9821 - val_accuracy: 0.7600\n",
      "Epoch 12/50\n",
      "25/25 [==============================] - 1s 57ms/step - loss: 5.8966e-09 - accuracy: 1.0000 - val_loss: 2.0916 - val_accuracy: 0.7550\n"
     ]
    }
   ],
   "source": [
    "model_tv = nn.fit(Xtrain,Y, validation_split=0.2,epochs=50,callbacks=es)"
   ]
  },
  {
   "cell_type": "code",
   "execution_count": 62,
   "id": "cf2c1963",
   "metadata": {},
   "outputs": [],
   "source": [
    "training = model_tv.history['loss']\n",
    "testing = model_tv.history['val_loss']"
   ]
  },
  {
   "cell_type": "code",
   "execution_count": 63,
   "id": "3c9afebb",
   "metadata": {},
   "outputs": [
    {
     "data": {
      "text/plain": [
       "[<matplotlib.lines.Line2D at 0x160f25ead60>]"
      ]
     },
     "execution_count": 63,
     "metadata": {},
     "output_type": "execute_result"
    },
    {
     "data": {
      "image/png": "[encoded data removed]",
      "text/plain": [
       "<Figure size 1440x576 with 1 Axes>"
      ]
     },
     "metadata": {
      "needs_background": "light"
     },
     "output_type": "display_data"
    }
   ],
   "source": [
    "plt.figure(figsize=(20,8))\n",
    "plt.plot(training)\n",
    "plt.plot(testing)"
   ]
  },
  {
   "cell_type": "code",
   "execution_count": 65,
   "id": "4140995f",
   "metadata": {},
   "outputs": [],
   "source": [
    "X_test_tv = tv.transform(p).toarray()"
   ]
  },
  {
   "cell_type": "code",
   "execution_count": 66,
   "id": "72b7436d",
   "metadata": {},
   "outputs": [
    {
     "name": "stdout",
     "output_type": "stream",
     "text": [
      "1/1 [==============================] - 0s 70ms/step\n"
     ]
    },
    {
     "data": {
      "text/plain": [
       "array([[1.0000000e+00],\n",
       "       [1.3802387e-18],\n",
       "       [1.0000000e+00],\n",
       "       [1.0000000e+00],\n",
       "       [9.9999857e-01],\n",
       "       [1.0000000e+00],\n",
       "       [1.6077222e-01],\n",
       "       [6.5978178e-09],\n",
       "       [1.9829292e-13],\n",
       "       [9.9999994e-01],\n",
       "       [1.6542845e-07],\n",
       "       [3.4050998e-09],\n",
       "       [9.9628943e-01],\n",
       "       [5.4852349e-09],\n",
       "       [9.7294968e-01],\n",
       "       [1.1705283e-08],\n",
       "       [1.2074407e-05]], dtype=float32)"
      ]
     },
     "execution_count": 66,
     "metadata": {},
     "output_type": "execute_result"
    }
   ],
   "source": [
    "nn.predict(X_test_tv)"
   ]
  },
  {
   "cell_type": "code",
   "execution_count": 67,
   "id": "334ed441",
   "metadata": {},
   "outputs": [
    {
     "data": {
      "text/plain": [
       "[1, 0, 1, 1, 1, 1, 0, 0, 0, 1, 0, 0, 1, 0, 1, 0, 0]"
      ]
     },
     "execution_count": 67,
     "metadata": {},
     "output_type": "execute_result"
    }
   ],
   "source": [
    "output_tv = []\n",
    "for i in pred:\n",
    "    if i>0.5:\n",
    "        output_tv.append(1)\n",
    "    else:\n",
    "        output_tv.append(0)\n",
    "output_tv"
   ]
  },
  {
   "cell_type": "code",
   "execution_count": 69,
   "id": "ea28284e",
   "metadata": {},
   "outputs": [],
   "source": [
    "O['Like_tv'] = output_tv"
   ]
  },
  {
   "cell_type": "code",
   "execution_count": 70,
   "id": "ff789bf8",
   "metadata": {},
   "outputs": [
    {
     "data": {
      "text/html": [
       "<div>\n",
       "<style scoped>\n",
       "    .dataframe tbody tr th:only-of-type {\n",
       "        vertical-align: middle;\n",
       "    }\n",
       "\n",
       "    .dataframe tbody tr th {\n",
       "        vertical-align: top;\n",
       "    }\n",
       "\n",
       "    .dataframe thead th {\n",
       "        text-align: right;\n",
       "    }\n",
       "</style>\n",
       "<table border=\"1\" class=\"dataframe\">\n",
       "  <thead>\n",
       "    <tr style=\"text-align: right;\">\n",
       "      <th></th>\n",
       "      <th>Review</th>\n",
       "      <th>like</th>\n",
       "      <th>Like_tv</th>\n",
       "    </tr>\n",
       "  </thead>\n",
       "  <tbody>\n",
       "    <tr>\n",
       "      <th>0</th>\n",
       "      <td>Tasty and delicious</td>\n",
       "      <td>1</td>\n",
       "      <td>1</td>\n",
       "    </tr>\n",
       "    <tr>\n",
       "      <th>1</th>\n",
       "      <td>crust is hard</td>\n",
       "      <td>0</td>\n",
       "      <td>0</td>\n",
       "    </tr>\n",
       "    <tr>\n",
       "      <th>2</th>\n",
       "      <td>yummy....I like Dominos pizza</td>\n",
       "      <td>1</td>\n",
       "      <td>1</td>\n",
       "    </tr>\n",
       "    <tr>\n",
       "      <th>3</th>\n",
       "      <td>fast service and good taste</td>\n",
       "      <td>1</td>\n",
       "      <td>1</td>\n",
       "    </tr>\n",
       "    <tr>\n",
       "      <th>4</th>\n",
       "      <td>Good taste</td>\n",
       "      <td>1</td>\n",
       "      <td>1</td>\n",
       "    </tr>\n",
       "    <tr>\n",
       "      <th>5</th>\n",
       "      <td>Its very delicious... hope it will maintain ta...</td>\n",
       "      <td>1</td>\n",
       "      <td>1</td>\n",
       "    </tr>\n",
       "    <tr>\n",
       "      <th>6</th>\n",
       "      <td>Food was okay but the cheesy dip provided was ...</td>\n",
       "      <td>0</td>\n",
       "      <td>0</td>\n",
       "    </tr>\n",
       "    <tr>\n",
       "      <th>7</th>\n",
       "      <td>taste is ok but not satisfied</td>\n",
       "      <td>0</td>\n",
       "      <td>0</td>\n",
       "    </tr>\n",
       "    <tr>\n",
       "      <th>8</th>\n",
       "      <td>Poor service</td>\n",
       "      <td>0</td>\n",
       "      <td>0</td>\n",
       "    </tr>\n",
       "    <tr>\n",
       "      <th>9</th>\n",
       "      <td>Good hygiene food delivered by dominos with pr...</td>\n",
       "      <td>1</td>\n",
       "      <td>1</td>\n",
       "    </tr>\n",
       "    <tr>\n",
       "      <th>10</th>\n",
       "      <td>Not Good</td>\n",
       "      <td>0</td>\n",
       "      <td>0</td>\n",
       "    </tr>\n",
       "    <tr>\n",
       "      <th>11</th>\n",
       "      <td>taste is not ok also service is not satisfied</td>\n",
       "      <td>0</td>\n",
       "      <td>0</td>\n",
       "    </tr>\n",
       "    <tr>\n",
       "      <th>12</th>\n",
       "      <td>Delayed service</td>\n",
       "      <td>1</td>\n",
       "      <td>1</td>\n",
       "    </tr>\n",
       "    <tr>\n",
       "      <th>13</th>\n",
       "      <td>Horrible taste</td>\n",
       "      <td>0</td>\n",
       "      <td>0</td>\n",
       "    </tr>\n",
       "    <tr>\n",
       "      <th>14</th>\n",
       "      <td>Late Service</td>\n",
       "      <td>1</td>\n",
       "      <td>1</td>\n",
       "    </tr>\n",
       "    <tr>\n",
       "      <th>15</th>\n",
       "      <td>taste is ok but delivery is too late..Can't sp...</td>\n",
       "      <td>0</td>\n",
       "      <td>0</td>\n",
       "    </tr>\n",
       "    <tr>\n",
       "      <th>16</th>\n",
       "      <td>disappointing food experience</td>\n",
       "      <td>0</td>\n",
       "      <td>0</td>\n",
       "    </tr>\n",
       "  </tbody>\n",
       "</table>\n",
       "</div>"
      ],
      "text/plain": [
       "                                               Review  like  Like_tv\n",
       "0                                 Tasty and delicious     1        1\n",
       "1                                       crust is hard     0        0\n",
       "2                       yummy....I like Dominos pizza     1        1\n",
       "3                         fast service and good taste     1        1\n",
       "4                                         Good taste      1        1\n",
       "5   Its very delicious... hope it will maintain ta...     1        1\n",
       "6   Food was okay but the cheesy dip provided was ...     0        0\n",
       "7                       taste is ok but not satisfied     0        0\n",
       "8                                       Poor service      0        0\n",
       "9   Good hygiene food delivered by dominos with pr...     1        1\n",
       "10                                           Not Good     0        0\n",
       "11      taste is not ok also service is not satisfied     0        0\n",
       "12                                    Delayed service     1        1\n",
       "13                                     Horrible taste     0        0\n",
       "14                                       Late Service     1        1\n",
       "15  taste is ok but delivery is too late..Can't sp...     0        0\n",
       "16                      disappointing food experience     0        0"
      ]
     },
     "execution_count": 70,
     "metadata": {},
     "output_type": "execute_result"
    }
   ],
   "source": [
    "O"
   ]
  },
  {
   "cell_type": "code",
   "execution_count": null,
   "id": "5b2b42f1",
   "metadata": {},
   "outputs": [],
   "source": []
  }
 ],
 "metadata": {
  "kernelspec": {
   "display_name": "Python 3 (ipykernel)",
   "language": "python",
   "name": "python3"
  },
  "language_info": {
   "codemirror_mode": {
    "name": "ipython",
    "version": 3
   },
   "file_extension": ".py",
   "mimetype": "text/x-python",
   "name": "python",
   "nbconvert_exporter": "python",
   "pygments_lexer": "ipython3",
   "version": "3.9.7"
  }
 },
 "nbformat": 4,
 "nbformat_minor": 5
}
